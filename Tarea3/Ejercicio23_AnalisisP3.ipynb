{
  "nbformat": 4,
  "nbformat_minor": 0,
  "metadata": {
    "colab": {
      "provenance": []
    },
    "kernelspec": {
      "name": "python3",
      "display_name": "Python 3"
    },
    "language_info": {
      "name": "python"
    }
  },
  "cells": [
    {
      "cell_type": "markdown",
      "source": [
        "# **EJERCICIO 23**"
      ],
      "metadata": {
        "id": "P9VsYqyFYcnl"
      }
    },
    {
      "cell_type": "markdown",
      "source": [
        "\n",
        "---\n",
        "\n",
        "\n",
        "Integrantes:\n",
        "*   Oziel Banda Hernández\n",
        "*   Joshua Santiago Cruz Pérez\n",
        "*   Naomi Daniela Jiménez Borzani\n",
        "*   Ximena Paredes Hernández\n",
        "\n",
        "\n",
        "---\n",
        "\n"
      ],
      "metadata": {
        "id": "KBtz3V78i1eL"
      }
    },
    {
      "cell_type": "markdown",
      "source": [
        "### **Funciones Auxiliares**"
      ],
      "metadata": {
        "id": "WB-4sfp9YYFu"
      }
    },
    {
      "cell_type": "code",
      "source": [
        "import numpy as np\n",
        "\n",
        "def MultMat(Mat1, Mat2):\n",
        "    \"\"\"\n",
        "    Multiplica dos matrices utilizando el método clásico de triple bucle.\n",
        "\n",
        "    Parámetros:\n",
        "        Mat1 (np.array): Primera matriz de tamaño m×n\n",
        "        Mat2 (np.array): Segunda matriz de tamaño n×p\n",
        "\n",
        "    Retorna:\n",
        "        np.array: Matriz resultante de tamaño m×p\n",
        "    \"\"\"\n",
        "    Mat3 = np.zeros((Mat1.shape[0], Mat2.shape[1]))\n",
        "    for row in range(Mat1.shape[0]):\n",
        "        for col in range(Mat2.shape[1]):\n",
        "            for aux in range(Mat2.shape[0]):\n",
        "                Mat3[row, col] += Mat1[row, aux] * Mat2[aux, col]\n",
        "    return Mat3\n",
        "\n",
        "def MatVec(Mat, vec):\n",
        "    \"\"\"\n",
        "    Multiplica una matriz por un vector.\n",
        "\n",
        "    Parámetros:\n",
        "        Mat (np.array): Matriz de tamaño m×n\n",
        "        vec (np.array): Vector de tamaño n\n",
        "\n",
        "    Retorna:\n",
        "        np.array: Vector resultante de tamaño m\n",
        "    \"\"\"\n",
        "    Mv = np.zeros(Mat.shape[0])\n",
        "    for ren in range(Mat.shape[0]):\n",
        "        for col in range(Mat.shape[1]):\n",
        "            Mv[ren] += Mat[ren, col] * vec[col]\n",
        "    return Mv\n",
        "\n",
        "def Transpuesta(Mat):\n",
        "    \"\"\"\n",
        "    Calcula la transpuesta de una matriz cuadrada mediante intercambio in-place.\n",
        "\n",
        "    Parámetros:\n",
        "        Mat (np.array): Matriz cuadrada a transponer\n",
        "\n",
        "    Retorna:\n",
        "        np.array: Matriz transpuesta (la misma matriz modificada)\n",
        "    \"\"\"\n",
        "    for ren in range(Mat.shape[0]):\n",
        "        for col in range(Mat.shape[1]):\n",
        "            if ren < col:\n",
        "                Mat[ren, col], Mat[col, ren] = Mat[col, ren], Mat[ren, col]\n",
        "    return Mat\n",
        "\n",
        "def SubMat(Mat, ren_out, col_out):\n",
        "    \"\"\"\n",
        "    Crea una submatriz eliminando una fila y columna específicas.\n",
        "\n",
        "    Parámetros:\n",
        "        Mat (np.array): Matriz original\n",
        "        ren_out (int): Índice de fila a eliminar\n",
        "        col_out (int): Índice de columna a eliminar\n",
        "\n",
        "    Retorna:\n",
        "        np.array: Submatriz resultante\n",
        "    \"\"\"\n",
        "    return np.delete(np.delete(Mat, ren_out, axis=0), col_out, axis=1)\n",
        "\n",
        "def Det(Mat):\n",
        "    \"\"\"\n",
        "    Calcula el determinante de forma recursiva usando expansión por menores.\n",
        "\n",
        "    Parámetros:\n",
        "        Mat (np.array): Matriz cuadrada\n",
        "\n",
        "    Retorna:\n",
        "        float: Valor del determinante\n",
        "\n",
        "    Notas:\n",
        "        Casos base para matrices 1×1 y 2×2\n",
        "        Caso recursivo para matrices n×n con n > 2\n",
        "    \"\"\"\n",
        "    if Mat.shape == (1, 1):\n",
        "        return Mat[0, 0]\n",
        "    if Mat.shape == (2, 2):\n",
        "        return Mat[0, 0]*Mat[1, 1] - Mat[0, 1]*Mat[1, 0]\n",
        "    deter = 0\n",
        "    for col in range(Mat.shape[1]):\n",
        "        menor = SubMat(Mat, 0, col)\n",
        "        signo = (-1) ** col\n",
        "        deter += signo * Mat[0, col] * Det(menor)\n",
        "    return deter\n",
        "\n",
        "def Cofactores(Mat):\n",
        "    \"\"\"\n",
        "    Calcula la matriz de cofactores.\n",
        "\n",
        "    Parámetros:\n",
        "        Mat (np.array): Matriz cuadrada\n",
        "\n",
        "    Retorna:\n",
        "        np.array: Matriz de cofactores\n",
        "    \"\"\"\n",
        "    Cofa = np.zeros_like(Mat, dtype=float)\n",
        "    for ren in range(Mat.shape[0]):\n",
        "        for col in range(Mat.shape[1]):\n",
        "            Cofa[ren, col] = ((-1) ** (ren + col)) * Det(SubMat(Mat, ren, col))\n",
        "    return Cofa\n",
        "\n",
        "def Inv(Mat):\n",
        "    \"\"\"\n",
        "    Calcula la inversa de una matriz usando el método de cofactores.\n",
        "\n",
        "    Parámetros:\n",
        "        Mat (np.array): Matriz cuadrada invertible\n",
        "\n",
        "    Retorna:\n",
        "        np.array: Matriz inversa\n",
        "\n",
        "    Excepciones:\n",
        "        ValueError: Si la matriz es singular (determinante = 0)\n",
        "    \"\"\"\n",
        "    deter = Det(Mat)\n",
        "    if deter == 0:\n",
        "        raise ValueError(\"La matriz es singular y no tiene inversa.\")\n",
        "    Cofac = Cofactores(Mat)\n",
        "    Adj = Transpuesta(Cofac.copy())\n",
        "    return (1 / deter) * Adj"
      ],
      "metadata": {
        "id": "QzKuaqejZ6zI"
      },
      "execution_count": null,
      "outputs": []
    },
    {
      "cell_type": "markdown",
      "source": [
        "## **Inciso a)**"
      ],
      "metadata": {
        "id": "BVxn4khvUMxP"
      }
    },
    {
      "cell_type": "markdown",
      "source": [
        "\n",
        "\n",
        "---\n",
        "\n",
        "a) Resolver el siguiente problema de mínimos cuadrados usando cualquier método de los vistos en clase.\n",
        "$$\n",
        "\\left[\\begin{array}{ll}\n",
        "0.16 & 0.10 \\\\\n",
        "0.17 & 0.11 \\\\\n",
        "2.02 & 1.29\n",
        "\\end{array}\\right]\\left[\\begin{array}{l}\n",
        "x_1 \\\\\n",
        "x_2\n",
        "\\end{array}\\right] \\approx\\left[\\begin{array}{l}\n",
        "0.26 \\\\\n",
        "0.28 \\\\\n",
        "3.31\n",
        "\\end{array}\\right]\n",
        "$$\n",
        "\n",
        "---\n",
        "\n"
      ],
      "metadata": {
        "id": "_BHT_dwZk3OO"
      }
    },
    {
      "cell_type": "code",
      "source": [
        "\"\"\"\n",
        "Resuelve un sistema de mínimos cuadrados utilizando el método de ecuaciones normales,\n",
        "con multiplicación e inversión de matrices implementadas manualmente.\n",
        "\n",
        "Este método encuentra la solución x que minimiza ||Ax - b||² para un sistema sobredeterminado\n",
        "(más ecuaciones que incógnitas), aplicando la fórmula:\n",
        "\n",
        "    x = (AᵗA)^(-1) Aᵗb\n",
        "\n",
        "Pasos:\n",
        "1. Se define la matriz A y el vector b del sistema original.\n",
        "2. Se calcula la transpuesta de A.\n",
        "3. Se multiplica Aᵗ por A.\n",
        "4. Se multiplica Aᵗ por b.\n",
        "5. Se calcula la inversa de AᵗA.\n",
        "6. Se multiplica la inversa de AᵗA por Aᵗb para obtener la solución x.\n",
        "7. Se imprime la solución obtenida.\n",
        "\n",
        "Nota:\n",
        "- Este enfoque puede ser numéricamente inestable si AᵗA está mal condicionada.\n",
        "\"\"\"\n",
        "\n",
        "# Matriz A y vector b original\n",
        "A = np.array([\n",
        "    [0.16, 0.10],\n",
        "    [0.17, 0.11],\n",
        "    [2.02, 1.29]\n",
        "])\n",
        "\n",
        "b = np.array([\n",
        "    [0.26],\n",
        "    [0.28],\n",
        "    [3.31]\n",
        "])\n",
        "\n",
        "# Paso 1: Calcular A^T (transpuesta de A)\n",
        "A_T = A.T.copy()\n",
        "\n",
        "# Paso 2: Calcular A^T * A\n",
        "ATA = MultMat(A_T, A)\n",
        "\n",
        "# Paso 3: Calcular A^T * b\n",
        "ATb = MultMat(A_T, b)\n",
        "\n",
        "# Paso 4: Calcular la inversa de A^T * A\n",
        "ATA_inv = Inv(ATA)\n",
        "\n",
        "# Paso 5: Calcular x = (A^T A)^(-1) * A^T b\n",
        "x = MultMat(ATA_inv, ATb)\n",
        "\n",
        "# Mostrar el resultado de la solución\n",
        "print(\"Inciso a) Solución del sistema original:\")\n",
        "print(x)\n",
        "\n"
      ],
      "metadata": {
        "colab": {
          "base_uri": "https://localhost:8080/"
        },
        "id": "Tv6kUCjPZ_ze",
        "outputId": "cbcab6b2-eb7e-4dad-fb05-358970b6b0e6"
      },
      "execution_count": null,
      "outputs": [
        {
          "output_type": "stream",
          "name": "stdout",
          "text": [
            "Inciso a) Solución del sistema original:\n",
            "[[1.]\n",
            " [1.]]\n"
          ]
        }
      ]
    },
    {
      "cell_type": "markdown",
      "source": [
        "## **Inciso b)**"
      ],
      "metadata": {
        "id": "_KNuezylWXX7"
      }
    },
    {
      "cell_type": "markdown",
      "source": [
        "\n",
        "\n",
        "---\n",
        "\n",
        "b) Resolver el mismo problema con la siguiente perturbación en el vector $\\bar{b}$,\n",
        "$$\n",
        "\\bar{b}=\\left[\\begin{array}{l}\n",
        "0.27 \\\\\n",
        "0.25 \\\\\n",
        "3.33\n",
        "\\end{array}\\right]\n",
        "$$\n",
        "\n",
        "---\n",
        "\n"
      ],
      "metadata": {
        "id": "oEsm8BVok6yl"
      }
    },
    {
      "cell_type": "code",
      "source": [
        "\"\"\"\n",
        "Calcula la solución del problema de mínimos cuadrados para una versión perturbada del vector\n",
        "b en el sistema Ax ≈ b, utilizando el método de ecuaciones normales.\n",
        "\n",
        "Este código forma parte del inciso b), ejercicio en el que se analiza el impacto de una\n",
        "pequeña perturbación en el vector sobre la solución del sistema. Se aprovechan los cálculos\n",
        "ya realizados en el inciso a), como A^T, (A^T A) y su inversa, para no repetir operaciones.\n",
        "\n",
        "Requiere previamente:\n",
        "- Haber definido la matriz A y su transpuesta A_T.\n",
        "- Haber calculado (A^T A)^(-1), almacenado en ATA_inv.\n",
        "- Haber definido la función MultMat para multiplicar matrices.\n",
        "\"\"\"\n",
        "\n",
        "# Vector perturbado\n",
        "b_pert = np.array([\n",
        "    [0.27],\n",
        "    [0.25],\n",
        "    [3.33]\n",
        "])\n",
        "\n",
        "# Paso 1: Calcular A^T * b perturbado\n",
        "ATb_pert = MultMat(A_T, b_pert)\n",
        "\n",
        "# Paso 2: Calcular la nueva solución x = (A^T A)^(-1) * A^T * b_perturbado\n",
        "x_pert = MultMat(ATA_inv, ATb_pert)\n",
        "\n",
        "# Imprimir resultado\n",
        "print(\"Inciso b) Solución con vector perturbado:\")\n",
        "print(x_pert)\n",
        "\n"
      ],
      "metadata": {
        "colab": {
          "base_uri": "https://localhost:8080/"
        },
        "id": "acoF1BAraCTJ",
        "outputId": "311c8b2d-d1e6-4dd1-9aad-5ce8ff7a389a"
      },
      "execution_count": null,
      "outputs": [
        {
          "output_type": "stream",
          "name": "stdout",
          "text": [
            "Inciso b) Solución con vector perturbado:\n",
            "[[ 7.00888731]\n",
            " [-8.39566299]]\n"
          ]
        }
      ]
    },
    {
      "cell_type": "markdown",
      "source": [
        "## **Comparación de Soluciones**"
      ],
      "metadata": {
        "id": "RI7v3vmiaHgs"
      }
    },
    {
      "cell_type": "markdown",
      "source": [
        "\n",
        "\n",
        "---\n",
        "\n",
        "c) Compara los resultados de los incisos anteriores, ¿se puede explicar la diferencia entre ellos?.\n",
        "\n",
        "---\n",
        "\n"
      ],
      "metadata": {
        "id": "BGeq8AmclBV3"
      }
    },
    {
      "cell_type": "markdown",
      "source": [
        "Al resolver el sistema de mínimos cuadrados utilizando el método de ecuaciones normales, se obtuvo que una pequeña perturbación en el vector de términos independientes provoca un cambio muy significativo en la solución del sistema. Mientras que la solución original fue:\n",
        "\n",
        "X = [1.0,1.0]\n",
        "\n",
        "la solución con la perturbación fue:\n",
        "\n",
        "X = [7.01, −8.40]\n",
        "\n",
        "Este comportamiento se puede explicar por el hecho de que el sistema está mal condicionado. Es decir, las columnas de la matriz A son casi linealmente dependientes, lo cual genera una matriz A transpuesta por A cercana a la singularidad, y por tanto, muy sensible a pequeños cambios en los datos.\n",
        "\n",
        "Este ejemplo nos muestra la importancia de estudiar la estabilidad de los métodos numéricos. Aunque las ecuaciones normales son computacionalmente más simples, no siempre son la mejor opción en términos de estabilidad. Por eso, para problemas reales con datos ruidosos o mal condicionados, se prefieren métodos como descomposición QR (Householder o Givens) que ofrecen mayor estabilidad numérica.\n"
      ],
      "metadata": {
        "id": "Ppfc0FwZbCF8"
      }
    },
    {
      "cell_type": "code",
      "source": [
        "# Comparación con método de mínimos cuadrados de NumPy\n",
        "\n",
        "# a) Solución con b original\n",
        "x_np_a, _, _, _ = np.linalg.lstsq(A, b, rcond=None)\n",
        "print(\"Solución con NumPy (original):\")\n",
        "print(x_np_a)\n",
        "\n",
        "# b) Solución con b perturbado\n",
        "x_np_b, _, _, _ = np.linalg.lstsq(A, b_pert, rcond=None)\n",
        "print(\"Solución con NumPy (perturbado):\")\n",
        "print(x_np_b)\n"
      ],
      "metadata": {
        "colab": {
          "base_uri": "https://localhost:8080/"
        },
        "id": "Y49IvLlJaRmN",
        "outputId": "75350879-d4f6-4447-d432-1482cc97e66e"
      },
      "execution_count": null,
      "outputs": [
        {
          "output_type": "stream",
          "name": "stdout",
          "text": [
            "Solución con NumPy (original):\n",
            "[[1.]\n",
            " [1.]]\n",
            "Solución con NumPy (perturbado):\n",
            "[[ 7.00888731]\n",
            " [-8.39566299]]\n"
          ]
        }
      ]
    }
  ]
}