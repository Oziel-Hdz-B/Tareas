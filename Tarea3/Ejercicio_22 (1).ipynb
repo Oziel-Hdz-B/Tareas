{
  "nbformat": 4,
  "nbformat_minor": 0,
  "metadata": {
    "colab": {
      "provenance": []
    },
    "kernelspec": {
      "name": "python3",
      "display_name": "Python 3"
    },
    "language_info": {
      "name": "python"
    }
  },
  "cells": [
    {
      "cell_type": "markdown",
      "source": [
        "\n",
        "---\n",
        "\n",
        "\n",
        "Integrantes:\n",
        "*   Oziel Banda Hernández\n",
        "*   Joshua Santiago Cruz Pérez\n",
        "*   Naomi Daniela Jiménez Borzani\n",
        "*   Ximena Paredes Hernández\n",
        "\n",
        "\n",
        "---\n",
        "\n",
        "\n",
        "\n",
        "\n"
      ],
      "metadata": {
        "id": "1a0mHmCUefFX"
      }
    },
    {
      "cell_type": "markdown",
      "source": [
        "\n",
        "\n",
        "---\n",
        "\n",
        "\n",
        "22. Calcular para la matriz en el sistema de (1):\n",
        "a) Cond $(A)$ y decir si es bien o mal condicionada.\n",
        "\n",
        "b) Para cada $\\widetilde{b}_i$ obtenida en los incisos 16-19, calcular\n",
        "$$\n",
        "\\frac{1}{\\cos \\left(\\theta_i\\right)}\n",
        "$$\n",
        "donde $\\theta_i$ es el ángulo que forman $\\bar{b}_i$ con $A \\widetilde{x}_i$.\n",
        "\n",
        "\n",
        "---\n",
        "\n"
      ],
      "metadata": {
        "id": "EVDJO6FEf743"
      }
    },
    {
      "cell_type": "code",
      "execution_count": 1,
      "metadata": {
        "colab": {
          "base_uri": "https://localhost:8080/"
        },
        "id": "Wn1x3aY8Bip6",
        "outputId": "26f325cf-0898-4cb4-a731-ddaf2ca27101"
      },
      "outputs": [
        {
          "output_type": "stream",
          "name": "stdout",
          "text": [
            "Inciso a):\n",
            "Condición de A (norma 2): 1.61803\n",
            "→ Matriz bien condicionada.\n",
            "\n",
            "Inciso b): 1 / cos(θᵢ) entre b y b̃ᵢ\n",
            "\n",
            "Normales: 1.70783\n",
            "Householder: 1.70783\n",
            "Givens: 1.70783\n",
            "Gram-Schmidt: 1.70783\n",
            "Triangulación: 4.18330\n"
          ]
        }
      ],
      "source": [
        "import numpy as np\n",
        "\n",
        "# Matriz A y vector b\n",
        "A = np.array([\n",
        "    [1, 1],\n",
        "    [-1, 0],\n",
        "    [0, 1],\n",
        "    [1, 0]\n",
        "], dtype=float)\n",
        "\n",
        "b = np.array([-1, 2, -1, 1], dtype=float)\n",
        "\n",
        "# En la mayoría de métodos, obtuvimos el mismo resultado\n",
        "x_sol = np.array([-2/5, -4/5])\n",
        "b_mmq = A @ x_sol\n",
        "\n",
        "# b_i que dió triangulación\n",
        "b_tri = np.array([-1, 2, 1, -2], dtype=float)\n",
        "\n",
        "# Agrupamos los resultados por método\n",
        "resultados = {\n",
        "    \"Normales\": b_mmq,\n",
        "    \"Householder\": b_mmq,\n",
        "    \"Givens\": b_mmq,\n",
        "    \"Gram-Schmidt\": b_mmq,\n",
        "    \"Triangulación\": b_tri\n",
        "}\n",
        "\n",
        "# --------- Inciso a) ------------\n",
        "# Calcula la descomposición SVD (Singular Value Decomposition) de la matriz A\n",
        "# U: Matriz unitaria con los vectores singulares izquierdos\n",
        "# s: Vector con los valores singulares (ordenados de mayor a menor)\n",
        "# Vt: Matriz unitaria con los vectores singulares derechos transpuestos\n",
        "U, s, Vt = np.linalg.svd(A)\n",
        "\n",
        "# Calcula el número de condición en norma 2 (ratio entre mayor y menor valor singular)\n",
        "condicion = s[0] / s[-1]\n",
        "\n",
        "print(\"Inciso a):\")\n",
        "print(f\"Condición de A (norma 2): {condicion:.5f}\")\n",
        "\n",
        "# Clasifica la matriz según su número de condición:\n",
        "# - cond < 10: bien condicionada\n",
        "# - 10 ≤ cond < 1000: moderadamente condicionada\n",
        "# - cond ≥ 1000: mal condicionada\n",
        "if condicion < 10:\n",
        "    print(\"→ Matriz bien condicionada.\\n\")\n",
        "elif condicion < 1000:\n",
        "    print(\"→ Matriz moderadamente condicionada.\\n\")\n",
        "else:\n",
        "    print(\"→ Matriz mal condicionada.\\n\")\n",
        "\n",
        "# --------- Inciso b) ------------\n",
        "# Función que calcula el inverso del coseno del ángulo entre dos vectores\n",
        "# Parámetros:\n",
        "#   b1: primer vector\n",
        "#   b2: segundo vector\n",
        "# Retorna:\n",
        "#   1/cos(θ) donde θ es el ángulo entre los vectores, o infinito si son ortogonales\n",
        "def inv_cos_theta(b1, b2):\n",
        "    # Calcula el producto punto entre los vectores\n",
        "    num = np.dot(b1, b2)\n",
        "    # Calcula el producto de las normas de los vectores\n",
        "    den = np.linalg.norm(b1) * np.linalg.norm(b2)\n",
        "    # Calcula el coseno del ángulo entre los vectores\n",
        "    cos_theta = num / den\n",
        "    # Retorna el inverso (evitando división por cero)\n",
        "    return 1 / cos_theta if cos_theta != 0 else np.inf\n",
        "\n",
        "print(\"Inciso b): 1 / cos(θᵢ) entre b y b̃ᵢ\\n\")\n",
        "\n",
        "# Itera sobre los resultados de diferentes métodos almacenados en el diccionario 'resultados'\n",
        "# Calcula y muestra 1/cos(θ) entre el vector original b y cada aproximación b̃ᵢ\n",
        "for metodo, bi in resultados.items():\n",
        "    val = inv_cos_theta(b, bi)  # Calcula la métrica para este método\n",
        "    print(f\"{metodo}: {val:.5f}\")  # Muestra el valor con 5 decimales"
      ]
    }
  ]
}