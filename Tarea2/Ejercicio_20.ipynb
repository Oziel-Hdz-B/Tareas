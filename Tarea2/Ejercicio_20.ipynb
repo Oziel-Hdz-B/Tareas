{
  "nbformat": 4,
  "nbformat_minor": 0,
  "metadata": {
    "colab": {
      "provenance": []
    },
    "kernelspec": {
      "name": "python3",
      "display_name": "Python 3"
    },
    "language_info": {
      "name": "python"
    }
  },
  "cells": [
    {
      "cell_type": "markdown",
      "source": [
        "\n",
        "\n",
        "---\n",
        "\n",
        "\n",
        "Nombre de los integrantes\n",
        "\n",
        "\n",
        "*   Cruz Pérez Joshua Santiago\n",
        "*   Hernández Banda Oziel\n",
        "*   Jimenez Borzani Naomi Daniela\n",
        "*   Paredes Hernández Ximena\n",
        "\n",
        "\n",
        "---\n"
      ],
      "metadata": {
        "id": "X6EnMf2NxQaH"
      }
    },
    {
      "cell_type": "code",
      "execution_count": null,
      "metadata": {
        "id": "K20mEoQoBIYj"
      },
      "outputs": [],
      "source": [
        "import numpy as np\n",
        "from numpy import linalg as LA"
      ]
    },
    {
      "cell_type": "code",
      "source": [
        "A=np.array([[2,4,-2],[4,9,-3],[-2,-1,7]])\n",
        "b=np.array([2, 8, 10])"
      ],
      "metadata": {
        "id": "gCBzh023C1vL"
      },
      "execution_count": null,
      "outputs": []
    },
    {
      "cell_type": "code",
      "source": [
        "def SustitucionDelante(Mat, b):\n",
        "    \"\"\"\n",
        "    Realiza sustitución hacia adelante para resolver sistemas triangulares inferiores.\n",
        "\n",
        "    Parámetros:\n",
        "    Mat -- Matriz triangular inferior (n x n)\n",
        "    b   -- Vector de términos independientes (n)\n",
        "\n",
        "    Retorna:\n",
        "    x   -- Vector solución del sistema Mat @ x = b\n",
        "    \"\"\"\n",
        "\n",
        "    n = Mat.shape[0]\n",
        "    x = np.zeros(n)\n",
        "\n",
        "    for i in range(n):\n",
        "        SumCum = 0.0\n",
        "        for j in range(i):\n",
        "            SumCum += Mat[i, j] * x[j]\n",
        "        x[i] = (b[i] - SumCum) / Mat[i, i]\n",
        "\n",
        "    return x\n",
        "\n",
        "def SustitucionAtras(Mat, b):\n",
        "    \"\"\"\n",
        "    Realiza sustitución hacia atrás para resolver sistemas triangulares superiores.\n",
        "\n",
        "    Parámetros:\n",
        "    Mat -- Matriz triangular superior (n x n)\n",
        "    b   -- Vector de términos independientes (n)\n",
        "\n",
        "    Retorna:\n",
        "    x   -- Vector solución del sistema Mat @ x = b\n",
        "    \"\"\"\n",
        "\n",
        "    n = Mat.shape[0]\n",
        "    x = np.zeros(n)\n",
        "\n",
        "    for i in range(n-1, -1, -1):\n",
        "        SumCum = 0.0\n",
        "        for j in range(i+1, n):\n",
        "            SumCum += Mat[i, j] * x[j]\n",
        "        x[i] = (b[i] - SumCum) / Mat[i, i]\n",
        "\n",
        "    return x\n",
        "\n",
        "# Eliminación Gaussiana = Descomposición LU\n",
        "\n",
        "def LU(A):\n",
        "    \"\"\"\n",
        "    Realiza la descomposición LU de una matriz usando eliminación Gaussiana.\n",
        "\n",
        "    La descomposición LU factoriza una matriz A en el producto de:\n",
        "    A = L @ U, donde:\n",
        "    - L es una matriz triangular inferior con 1's en la diagonal\n",
        "    - U es una matriz triangular superior\n",
        "\n",
        "    Parámetros:\n",
        "    A -- Matriz cuadrada a descomponer (n x n)\n",
        "\n",
        "    Retorna:\n",
        "    L -- Matriz triangular inferior con diagonal unitaria\n",
        "    U -- Matriz triangular superior\n",
        "\n",
        "    NOTA:\n",
        "    - Implementa el método de eliminación Gaussiana sin pivoteo\n",
        "    - Utiliza las funciones SustitucionDelante y SustitucionAtras\n",
        "    \"\"\"\n",
        "    U = np.copy(A)\n",
        "    L = np.eye(A.shape[0])\n",
        "\n",
        "    for i in range(A.shape[0]):\n",
        "        Li = np.eye(A.shape[0])\n",
        "        for j in range(i+1, A.shape[0]):\n",
        "            # Calculamos el factor de multiplicación\n",
        "            Li[j, i] = -U[j, i] / U[i, i]\n",
        "            # Actualizamos la matriz U\n",
        "            L[j, i] = U[j, i] / U[i, i]\n",
        "        U = Li @ U\n",
        "\n",
        "    return L, U\n"
      ],
      "metadata": {
        "id": "pc6nObeNC77K"
      },
      "execution_count": null,
      "outputs": []
    },
    {
      "cell_type": "code",
      "source": [
        "def SolverLU(A, b):\n",
        "    \"\"\"\n",
        "    Resuelve un sistema lineal Ax = b utilizando la descomposición LU.\n",
        "\n",
        "    El método realiza los siguientes pasos:\n",
        "    1. Descompone la matriz A en matrices triangulares L (inferior) y U (superior)\n",
        "    2. Resuelve el sistema triangular inferior Ly = b usando sustitución hacia adelante\n",
        "    3. Resuelve el sistema triangular superior Ux = y usando sustitución hacia atrás\n",
        "\n",
        "    Parámetros:\n",
        "    A -- Matriz cuadrada de coeficientes (n x n)\n",
        "    b -- Vector de términos independientes (n)\n",
        "\n",
        "    Retorna:\n",
        "    x -- Vector solución del sistema Ax = b\n",
        "\n",
        "    Ejemplo:\n",
        "    >>> A = np.array([[2, -1, 0], [-1, 2, -1], [0, -1, 2]])\n",
        "    >>> b = np.array([1, 0, 1])\n",
        "    >>> SolverLU(A, b)\n",
        "    array([1., 1., 1.])\n",
        "\n",
        "    NOTA:\n",
        "    - Utiliza la implementación propia de LU sin pivoteo\n",
        "    - Incluye verificación contra la solución de numpy para validar resultados\n",
        "    \"\"\"\n",
        "    L, U = LU(A)\n",
        "    y = SustitucionDelante(L, b)\n",
        "    x = SustitucionAtras(U, y)\n",
        "    return x\n",
        "\n",
        "#----------------- RESOLVIENDO PARA A y b PLANTEADOS EN LA PRÁCTICA -----------------#\n",
        "\"\"\"\n",
        "Sección de resolución del sistema lineal y verificación de resultados\n",
        "\n",
        "Proceso:\n",
        "1. Se llama a SolverLU con la matriz A y vector b definidos previamente\n",
        "2. Se imprime la solución obtenida por el método LU\n",
        "3. Se verifica la solución comparando con la implementación de numpy.linalg.solve\n",
        "\n",
        "Propósito:\n",
        "- Demostrar el funcionamiento del solver LU implementado\n",
        "- Validar los resultados contra una implementación de referencia\n",
        "- Mostrar el formato de salida de la solución\n",
        "\n",
        "Notas:\n",
        "- La matriz A y vector b están definidos en la parte superior del código\n",
        "- La verificación con numpy sirve como prueba de los resultados del algoritmo\n",
        "\"\"\"\n",
        "\n",
        "x = SolverLU(A, b)\n",
        "print(\"La solución del sistema Ax = b es:\")\n",
        "print(x)\n",
        "\n",
        "# Verificación con numpy\n",
        "print(\"\\nLa solución del sistema con numpy es:\")\n",
        "print(np.linalg.solve(A, b))"
      ],
      "metadata": {
        "colab": {
          "base_uri": "https://localhost:8080/"
        },
        "id": "BMm5cURlGb_j",
        "outputId": "5b3a1747-fc76-44c5-a791-ec3989bb9de5"
      },
      "execution_count": null,
      "outputs": [
        {
          "output_type": "stream",
          "name": "stdout",
          "text": [
            "La solución del sistema Ax = b es:\n",
            "[-7.  4.  0.]\n",
            "\n",
            "La solución del sistema con numpy es:\n",
            "[-7.  4.  0.]\n"
          ]
        }
      ]
    },
    {
      "cell_type": "code",
      "source": [],
      "metadata": {
        "id": "pymflOr4C4W3"
      },
      "execution_count": null,
      "outputs": []
    }
  ]
}